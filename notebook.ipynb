{
 "cells": [
  {
   "cell_type": "code",
   "execution_count": null,
   "metadata": {
    "_cell_guid": "4bb4ba38-395e-47e0-aa71-e1e081ce3e4b",
    "_uuid": "5dc796d57b245db10ff16690a01f5d504070313f",
    "collapsed": true
   },
   "outputs": [],
   "source": [
    "import seaborn as sns\n",
    "import pandas as pd\n",
    "import numpy as np\n",
    "from matplotlib import pyplot as plt"
   ]
  },
  {
   "cell_type": "code",
   "execution_count": null,
   "metadata": {
    "_cell_guid": "1e2a4f52-581d-45fb-8c5c-5f16b88319f6",
    "_uuid": "f753f95fc3b87298c0e6a2215d1fa99f368d1974",
    "collapsed": true
   },
   "outputs": [],
   "source": [
    "train=pd.read_csv('../input/train.csv')\n",
    "test=pd.read_csv('../input/test.csv')"
   ]
  },
  {
   "cell_type": "code",
   "execution_count": null,
   "metadata": {
    "_cell_guid": "95e35240-39f5-43f9-a74e-d5dcea959126",
    "_uuid": "d18da2fc025b54b0adbcff822d87ddbca7b53d82",
    "collapsed": true
   },
   "outputs": [],
   "source": [
    "train_cols=[str(i) for i in train.columns]\n",
    "test_cols=[str(i) for i in test.columns]"
   ]
  },
  {
   "cell_type": "code",
   "execution_count": null,
   "metadata": {
    "_cell_guid": "cfde6890-3323-4778-a2d6-0871cfd7e423",
    "_uuid": "1c60a76ef2b103b074291f7df21909166c94064b",
    "collapsed": true
   },
   "outputs": [],
   "source": [
    "from sklearn.preprocessing import Imputer\n",
    "imr=Imputer(missing_values=-1,strategy='median',axis=0)\n",
    "imrX= imr.fit(train)\n",
    "train = imrX.transform(train)"
   ]
  },
  {
   "cell_type": "code",
   "execution_count": null,
   "metadata": {
    "_cell_guid": "d87943a3-5751-41bf-a470-86d28f721904",
    "_uuid": "9a05c2ccd344b637d6cc8c7e39d4c5f4bdc65522",
    "collapsed": true
   },
   "outputs": [],
   "source": [
    "imrX= imr.fit(test)\n",
    "test = imrX.transform(test)\n"
   ]
  },
  {
   "cell_type": "code",
   "execution_count": null,
   "metadata": {
    "_cell_guid": "e8c8d003-4de5-4d2f-a0e5-fc31d4abec4b",
    "_uuid": "ba4ca657bf267704c5e4b955df22c13e1894b6d1",
    "collapsed": true
   },
   "outputs": [],
   "source": [
    "train=pd.DataFrame(train,columns=train_cols)\n",
    "test=pd.DataFrame(test,columns=test_cols)"
   ]
  },
  {
   "cell_type": "code",
   "execution_count": null,
   "metadata": {
    "_cell_guid": "fd64ce77-c82f-4822-81e6-dcaf319a1e0f",
    "_uuid": "e0aba16b5c6c2a300f2908a0323902c35906b995",
    "collapsed": true
   },
   "outputs": [],
   "source": [
    "print(train.shape)\n",
    "print(test.shape)"
   ]
  },
  {
   "cell_type": "code",
   "execution_count": null,
   "metadata": {
    "_cell_guid": "5f26cec8-b250-41aa-a14a-bde3c52ce7cd",
    "_uuid": "e7dc6240a644940a9a349c68c4aac09b41996a68",
    "collapsed": true
   },
   "outputs": [],
   "source": [
    "from sklearn.decomposition import PCA\n",
    "pca=PCA(n_components=20,svd_solver='full', random_state=1996)\n",
    "pca.fit(train)"
   ]
  },
  {
   "cell_type": "code",
   "execution_count": null,
   "metadata": {
    "_cell_guid": "5a0b2345-6a0f-4c93-86b2-75ec78420db2",
    "_uuid": "46f5d5e243b476023e7153d01dbc20fffa3ece40",
    "collapsed": true
   },
   "outputs": [],
   "source": [
    "print('Explained variance: %.4f' % pca.explained_variance_ratio_.sum())\n",
    "\n",
    "print('Explained variance: %.4f' % pca.explained_variance_ratio_.sum())\n",
    "print('Individual variance contributions:')\n",
    "for j in range(pca.n_components):\n",
    "    print(pca.explained_variance_ratio_[j])"
   ]
  },
  {
   "cell_type": "code",
   "execution_count": null,
   "metadata": {
    "_cell_guid": "cbbe9c75-ac53-4775-8ee4-ce5a64b44c2d",
    "_uuid": "7101f6aaff70bf48bc2242bec53cc72dfc754131",
    "collapsed": true
   },
   "outputs": [],
   "source": [
    "cat=[]\n",
    "for i in train.columns:\n",
    "    if 'cat' in i:\n",
    "        cat.append(i)\n",
    "        \n",
    "bina=[]\n",
    "for i in train.columns:\n",
    "    if 'bin' in i:\n",
    "        bina.append(i)\n",
    "        \n",
    "reg=[]\n",
    "for i in train.columns:\n",
    "    if 'reg' in i:\n",
    "        reg.append(i)\n",
    "        \n",
    "ind=[]\n",
    "for i in train.columns:\n",
    "    if 'ind' in i and 'bin' not in i and 'cat' not in i:\n",
    "        ind.append(i)\n",
    "        \n",
    "car=[]\n",
    "for i in train.columns:\n",
    "    if 'car' in i and 'bin' not in i and 'cat' not in i:\n",
    "        car.append(i)\n",
    "        \n",
    "calc=[]\n",
    "for i in train.columns:\n",
    "    if 'calc' in i and 'bin' not in i and 'cat' not in i:\n",
    "        calc.append(i)"
   ]
  },
  {
   "cell_type": "code",
   "execution_count": null,
   "metadata": {
    "_cell_guid": "f5c1f73d-1720-421f-95ae-9c97749e2148",
    "_uuid": "2f5f39115cbc56ac742cf7cc41e1206dc78aefde",
    "collapsed": true
   },
   "outputs": [],
   "source": [
    "cols=[reg,bina,ind,calc,car,cat]\n",
    "print(train.columns,train.shape)\n",
    "print(sum([len(i) for i in [reg,bina,ind,calc,car,cat]]))\n",
    "##plt.figure()\n",
    "##plt.subplot(4,1,1)\n",
    "##sns.countplot(x='Survived',data=train,hue='family')\n",
    "##plt.subplot(4,1,2)\n",
    "##sns.barplot(x=\"family\", y=\"Survived\", hue=\"Sex\", data=train);\n",
    "##plt.subplot(4,1,3)\n",
    "##sns.barplot(x='family',y='Survived',data=train)\n",
    "##plt.subplot(4,1,4)\n",
    "##sns.countplot(x='family',hue='Survived',data=train)\n",
    "##plt.show()"
   ]
  },
  {
   "cell_type": "code",
   "execution_count": null,
   "metadata": {
    "_cell_guid": "a515dc32-1821-4817-b668-eb07341fec0c",
    "_uuid": "64d359b63c956851ae6db38041a04e39ae221352",
    "collapsed": true
   },
   "outputs": [],
   "source": [
    "train_data=pd.DataFrame()\n",
    "test_data=pd.DataFrame()\n",
    "train_data['target']=train['target']"
   ]
  },
  {
   "cell_type": "code",
   "execution_count": null,
   "metadata": {
    "_cell_guid": "4c07093f-b7f8-4a42-b5ad-106f627f82e4",
    "_uuid": "4b02556e8647888e1649fb1427aafd34ed0510cb",
    "collapsed": true
   },
   "outputs": [],
   "source": [
    "for i in calc:\n",
    "    train_data[i+\"_transform\"]=pd.DataFrame(np.power(train[i],.5))\n",
    "    test_data[i+\"_transform\"]=pd.DataFrame(np.power(test[i],.5))\n",
    "    print(train[[i,'target']].corr()['target'],'\\n',train_data[[i+\"_transform\",'target']].corr()['target'])\n",
    "    #sns.distplot(train[i])\n",
    "    #plt.show()\n",
    "    #sns.distplot(np.power(train[i],.5))\n",
    "    #plt.show()"
   ]
  },
  {
   "cell_type": "code",
   "execution_count": null,
   "metadata": {
    "_cell_guid": "a876cfaa-d9bc-4d3a-9be1-1aa53a6c0718",
    "_uuid": "f574e445ebb3c3741ccc4fe5cb4104b04d01b529",
    "collapsed": true
   },
   "outputs": [],
   "source": [
    "#ps_calc_05,ps_calc_09,ps_calc_11 after transformation seems to loose its previous correlation \n",
    "#with target , so rollback their transformation\n",
    "train_data=train_data.drop(['ps_calc_05_transform','ps_calc_09_transform','ps_calc_11_transform'],1)\n",
    "train_data['ps_calc_05']=train['ps_calc_05']\n",
    "train_data['ps_calc_09']=train['ps_calc_09']\n",
    "train_data['ps_calc_11']=train['ps_calc_11']\n",
    "\n",
    "test_data=test_data.drop(['ps_calc_05_transform','ps_calc_09_transform','ps_calc_11_transform'],1)\n",
    "test_data['ps_calc_05']=test['ps_calc_05']\n",
    "test_data['ps_calc_09']=test['ps_calc_09']\n",
    "test_data['ps_calc_11']=test['ps_calc_11']"
   ]
  },
  {
   "cell_type": "code",
   "execution_count": null,
   "metadata": {
    "_cell_guid": "29b3779a-3889-4f70-b18c-ffabbda59bad",
    "_uuid": "3173661bef706a0fad82a2e232e219634b48a0a9",
    "collapsed": true
   },
   "outputs": [],
   "source": [
    "for i in car:\n",
    "    train_data[i+\"_transform\"]=pd.DataFrame(np.power(train[i],.5))\n",
    "    test_data[i+\"_transform\"]=pd.DataFrame(np.power(test[i],.5))\n",
    "    print(train[[i,'target']].corr()['target'],'\\n',train_data[[i+\"_transform\",'target']].corr()['target'])\n",
    "    # sns.distplot(train[i])\n",
    "    # plt.show()\n",
    "    # sns.distplot(np.power(train[i],.5))\n",
    "    # plt.show()   "
   ]
  },
  {
   "cell_type": "code",
   "execution_count": null,
   "metadata": {
    "_cell_guid": "d0d76296-ab6d-464f-a667-a9ec2ac98d9f",
    "_uuid": "2c52f03af8da3d0a02030221cf4a35b72887b8c7",
    "collapsed": true
   },
   "outputs": [],
   "source": [
    "#ps_car_15 after transformation seems to loose its previous correlation \n",
    "#with target , so rollback its transformation\n",
    "train_data=train_data.drop(['ps_car_15_transform'],1)\n",
    "train_data['ps_car_15']=train['ps_car_15']\n",
    "\n",
    "test_data=test_data.drop(['ps_car_15_transform'],1)\n",
    "test_data['ps_car_15']=test['ps_car_15']"
   ]
  },
  {
   "cell_type": "code",
   "execution_count": null,
   "metadata": {
    "_cell_guid": "781f2d96-cf94-4195-bcfd-de9d44e2e526",
    "_uuid": "72550538065c9afd6e3ff166cbefe4ec260473cd",
    "collapsed": true
   },
   "outputs": [],
   "source": [
    "for i in cat:\n",
    "    train_data[i+\"_transform\"]=pd.DataFrame(np.power(train[i],.5))\n",
    "    test_data[i+\"_transform\"]=pd.DataFrame(np.power(test[i],.5))\n",
    "    print(train[[i,'target']].corr()['target'],'\\n',train_data[[i+\"_transform\",'target']].corr()['target'])\n",
    "    # sns.distplot(train[i])\n",
    "    # plt.show()\n",
    "    # sns.distplot(np.power(train[i],.5))\n",
    "    # plt.show() "
   ]
  },
  {
   "cell_type": "code",
   "execution_count": null,
   "metadata": {
    "_cell_guid": "dce109a8-912d-42cf-b1c2-ca7c645978df",
    "_uuid": "03c04d09c6f3d83abd9b72179e2e2941c8e0aad2",
    "collapsed": true
   },
   "outputs": [],
   "source": [
    "#ps_car_01_cat,ps_car_11_cat after transformation seems to loose its previous correlation \n",
    "#with target , so rollback their transformation\n",
    "train_data=train_data.drop(['ps_car_01_cat_transform','ps_car_11_cat_transform'],1)\n",
    "train_data['ps_car_01_cat']=train['ps_car_01_cat']\n",
    "train_data['ps_car_11_cat']=train['ps_car_11_cat']\n",
    "\n",
    "test_data=test_data.drop(['ps_car_01_cat_transform','ps_car_11_cat_transform'],1)\n",
    "test_data['ps_car_01_cat']=test['ps_car_01_cat']\n",
    "test_data['ps_car_11_cat']=test['ps_car_11_cat']\n"
   ]
  },
  {
   "cell_type": "code",
   "execution_count": null,
   "metadata": {
    "_cell_guid": "b7b1ce06-de12-4a6b-bf7b-1c406b04fc6d",
    "_uuid": "56fae92e9006285ef5eaa6fa405a4b0df14e5d57",
    "collapsed": true
   },
   "outputs": [],
   "source": [
    "for i in ind:\n",
    "    train_data[i+\"_transform\"]=pd.DataFrame(np.power(train[i],.5))\n",
    "    test_data[i+\"_transform\"]=pd.DataFrame(np.power(test[i],.5))\n",
    "    print(train[[i,'target']].corr()['target'],'\\n',train_data[[i+\"_transform\",'target']].corr()['target'])\n",
    "    # sns.distplot(train[i])\n",
    "    # plt.show()\n",
    "    # sns.distplot(np.power(train[i],.5))\n",
    "    # plt.show()   "
   ]
  },
  {
   "cell_type": "code",
   "execution_count": null,
   "metadata": {
    "_cell_guid": "82178bf7-f113-4ec1-bea5-12ed8d56b217",
    "_uuid": "56e531fc4ab76ce5ebbf322cbc0f05bd49fbfaf5",
    "collapsed": true
   },
   "outputs": [],
   "source": [
    "#ps_ind_01,ps_ind_03,ps_ind_15 after transformation seems to loose its previous correlation \n",
    "#with target , so rollback their transformation\n",
    "train_data=train_data.drop(['ps_ind_01_transform','ps_ind_03_transform','ps_ind_15_transform'],1)\n",
    "train_data['ps_ind_01']=train['ps_ind_01']\n",
    "train_data['ps_ind_03']=train['ps_ind_03']\n",
    "train_data['ps_ind_15']=train['ps_ind_03']\n",
    "\n",
    "test_data=test_data.drop(['ps_ind_01_transform','ps_ind_03_transform','ps_ind_15_transform'],1)\n",
    "test_data['ps_ind_01']=test['ps_ind_01']\n",
    "test_data['ps_ind_03']=test['ps_ind_03']\n",
    "test_data['ps_ind_15']=test['ps_ind_03']"
   ]
  },
  {
   "cell_type": "code",
   "execution_count": null,
   "metadata": {
    "_cell_guid": "d8f00cce-e005-456d-8878-47933aa87c88",
    "_uuid": "b500dfaedad3e536db1050d2e31a9fa3d82658a8",
    "collapsed": true
   },
   "outputs": [],
   "source": [
    "for i in reg:\n",
    "    train_data[i+\"_transform\"]=pd.DataFrame(np.power(train[i],.5))\n",
    "    test_data[i+\"_transform\"]=pd.DataFrame(np.power(test[i],.5))\n",
    "    print(train[[i,'target']].corr()['target'],'\\n',train_data[[i+\"_transform\",'target']].corr()['target'])\n",
    "    # sns.distplot(train[i])\n",
    "    # plt.show()\n",
    "    # sns.distplot(np.power(train[i],.5))\n",
    "    # plt.show()   "
   ]
  },
  {
   "cell_type": "code",
   "execution_count": null,
   "metadata": {
    "_cell_guid": "b3fd50a6-fa0a-43bf-aee3-ba69eeb48e00",
    "_uuid": "8fb435e497d4e8abe90f41fce94a619fa5c5a6ca",
    "collapsed": true
   },
   "outputs": [],
   "source": [
    "#ps_reg_01,ps_reg_02 after transformation seems to loose its previous correlation \n",
    "#with target , so rollback their transformation\n",
    "train_data=train_data.drop(['ps_reg_01_transform','ps_reg_02_transform'],1)\n",
    "train_data['ps_reg_01']=train['ps_ind_01']\n",
    "train_data['ps_reg_02']=train['ps_reg_02']\n",
    "\n",
    "test_data=test_data.drop(['ps_reg_01_transform','ps_reg_02_transform'],1)\n",
    "test_data['ps_reg_01']=test['ps_ind_01']\n",
    "test_data['ps_reg_02']=test['ps_reg_02']"
   ]
  },
  {
   "cell_type": "code",
   "execution_count": null,
   "metadata": {
    "_cell_guid": "5cc3c5e5-c757-4cd2-aa3f-d25978453c19",
    "_uuid": "22851e21015fc225670c39c99466de36208477bd",
    "collapsed": true
   },
   "outputs": [],
   "source": [
    "for i in bina:\n",
    "    train_data[i]=train[i]\n",
    "    test_data[i]=test[i]"
   ]
  },
  {
   "cell_type": "code",
   "execution_count": null,
   "metadata": {
    "_cell_guid": "a040503e-2d71-4dfc-a1e9-70975b54080e",
    "_uuid": "967edf4606010c27a59f172559dfc7c2015127c1",
    "collapsed": true
   },
   "outputs": [],
   "source": [
    "train_data=train_data.drop(['target'],1)\n",
    "\n",
    "print(train_data.shape,test_data.shape)\n",
    "print(train_data.columns,test_data.columns)"
   ]
  },
  {
   "cell_type": "code",
   "execution_count": null,
   "metadata": {
    "_cell_guid": "63463b3a-6960-4e62-8584-63f9b03e95c9",
    "_uuid": "d2f5ae793642b35a28d74af2b9a8e6afe780b19c",
    "collapsed": true
   },
   "outputs": [],
   "source": [
    "pca1=PCA(n_components=45,svd_solver='full',random_state=1996)\n",
    "pca1.fit(train_data)"
   ]
  },
  {
   "cell_type": "code",
   "execution_count": null,
   "metadata": {
    "_cell_guid": "18a7d790-3850-48bc-912c-9066a0fb3464",
    "_uuid": "bcd89a3bb061e0976ea7008bb7a4a4e2b6e8ad8d",
    "collapsed": true
   },
   "outputs": [],
   "source": [
    "print('Explained variance: %.4f' % pca1.explained_variance_ratio_.sum())\n",
    "print('Individual variance contributions:')\n",
    "for j in range(pca1.n_components):\n",
    "    print(pca1.explained_variance_ratio_[j])"
   ]
  },
  {
   "cell_type": "markdown",
   "metadata": {
    "_cell_guid": "c3ff27a3-ea43-4434-9495-478d49bd99fe",
    "_uuid": "5fcd23f9594ef343ff18e237de26e88ffac473f8"
   },
   "source": [
    "**SOME MORE FEATURES FROM NEAREST NEIGHBORS**"
   ]
  },
  {
   "cell_type": "code",
   "execution_count": null,
   "metadata": {
    "_cell_guid": "357b07c8-d26c-435c-9210-b7ec76d413f9",
    "_uuid": "849749c1bf52e2c1e2149dce6118238b0e4938e9",
    "collapsed": true
   },
   "outputs": [],
   "source": [
    "cat_new=[]\n",
    "for i in train_data.columns:\n",
    "    if 'cat' in i:\n",
    "        cat_new.append(i)\n",
    "        \n",
    "bina_new=[]\n",
    "for i in train_data.columns:\n",
    "    if 'bin' in i:\n",
    "        bina_new.append(i)\n",
    "        \n",
    "reg_new=[]\n",
    "for i in train_data.columns:\n",
    "    if 'reg' in i:\n",
    "        reg_new.append(i)\n",
    "        \n",
    "ind_new=[]\n",
    "for i in train_data.columns:\n",
    "    if 'ind' in i and 'bin' not in i and 'cat' not in i:\n",
    "        ind_new.append(i)\n",
    "        \n",
    "car_new=[]\n",
    "for i in train_data.columns:\n",
    "    if 'car' in i and 'bin' not in i and 'cat' not in i:\n",
    "        car_new.append(i)\n",
    "        \n",
    "calc_new=[]\n",
    "for i in train_data.columns:\n",
    "    if 'calc' in i and 'bin' not in i and 'cat' not in i:\n",
    "        calc_new.append(i)"
   ]
  },
  {
   "cell_type": "code",
   "execution_count": null,
   "metadata": {
    "_cell_guid": "d1dee405-0d75-46d8-8774-abb919f1a4f3",
    "_uuid": "a710c3937923086867988fc4e72eafa9fa66f117",
    "collapsed": true
   },
   "outputs": [],
   "source": [
    "cols_new=[reg_new,bina_new,ind_new,calc_new,car_new,cat_new]\n",
    "print(sum([len(i) for i in [reg_new,bina_new,ind_new,calc_new,car_new,cat_new]]))"
   ]
  },
  {
   "cell_type": "code",
   "execution_count": null,
   "metadata": {
    "_cell_guid": "89eddc47-4146-4151-8282-b9c72dcebd8a",
    "_uuid": "dd2faa836f31c8095b430304bee1b3eaa7081080",
    "collapsed": true
   },
   "outputs": [],
   "source": [
    "from sklearn.cluster import MiniBatchKMeans"
   ]
  },
  {
   "cell_type": "code",
   "execution_count": null,
   "metadata": {
    "_cell_guid": "220264ac-3bef-4ed7-9fab-0a7f1d78cd9e",
    "_uuid": "e2dea2c5439bc85b9a0d5fbce86f234ed68d9d80",
    "collapsed": true
   },
   "outputs": [],
   "source": [
    "new_cols=['reg_cluster','bina_cluster','ind_cluster','calc_cluster','car_cluster','cat_cluster']"
   ]
  },
  {
   "cell_type": "code",
   "execution_count": null,
   "metadata": {
    "_cell_guid": "50f2724a-b7f5-4fbc-85b6-0a9ba44ff33b",
    "_uuid": "0633efd47a6b317fb54d889602d230153fe495da",
    "collapsed": true
   },
   "outputs": [],
   "source": [
    "print(train_data.shape,test_data.shape)"
   ]
  },
  {
   "cell_type": "code",
   "execution_count": null,
   "metadata": {
    "_cell_guid": "b3c3c365-9028-415b-b83d-01a44188ac63",
    "_uuid": "f5e4eedc58ebab96f2ddf48eaa02ae938915c2fe",
    "collapsed": true
   },
   "outputs": [],
   "source": [
    "train_clusters=pd.DataFrame()\n",
    "test_clusters=pd.DataFrame()\n",
    "cnt=0\n",
    "total_data=pd.concat([train_data,test_data])\n",
    "print(len(total_data)==(len(train_data)+len(test_data)))\n",
    "for i in new_cols:\n",
    "    coords = np.vstack((total_data[[str(j) for j in cols_new[cnt]]].values))\n",
    "    sample_ind = np.random.permutation(len(coords))\n",
    "    kmeans = MiniBatchKMeans(n_clusters=5, batch_size=10000).fit(coords[sample_ind])\n",
    "    train_clusters[str(i)]=kmeans.predict(train_data[[str(j) for j in cols_new[cnt]]].values)\n",
    "    print(len(train_clusters[str(i)]),max(train_clusters[str(i)].values),min(train_clusters[str(i)].values))\n",
    "    cnt+=1\n",
    "cnt=0\n",
    "for i in new_cols:\n",
    "    coords = np.vstack((total_data[[str(j) for j in cols_new[cnt]]].values))\n",
    "    sample_ind = np.random.permutation(len(coords))\n",
    "    kmeans = MiniBatchKMeans(n_clusters=5, batch_size=10000).fit(coords[sample_ind])\n",
    "    test_clusters[str(i)]=kmeans.predict(test_data[[str(j) for j in cols_new[cnt]]].values)\n",
    "    print(len(test_clusters['reg_cluster']),max(test_clusters['reg_cluster'].values),min(test_clusters['reg_cluster'].values))\n",
    "    cnt+=1    \n",
    "print(train_clusters.shape,test_clusters.shape)    "
   ]
  },
  {
   "cell_type": "code",
   "execution_count": null,
   "metadata": {
    "_cell_guid": "5206504f-ecb7-4a78-8913-5803a285e054",
    "_uuid": "a1cfc333503235f7ee4998ef23ed5f34ebe948f5",
    "collapsed": true
   },
   "outputs": [],
   "source": [
    "train_clusters['target']=train['target']\n",
    "for i in [i for i in train_clusters.columns]:\n",
    "    train_clusters[i+\"_transform\"]=pd.DataFrame(np.power(train_clusters[i],.5))\n",
    "    #test_clusters[i+\"_transform\"]=pd.DataFrame(np.sinh(test_clusters[i]))\n",
    "    print(train_clusters[[i,'target']].corr()['target'],'\\n',train_clusters[[i+\"_transform\",'target']].corr()['target'])\n",
    "    train_clusters=train_clusters.drop([i+\"_transform\"],1)"
   ]
  },
  {
   "cell_type": "code",
   "execution_count": null,
   "metadata": {
    "_cell_guid": "775c44c3-f1a1-405b-8cdf-0677ae3e0153",
    "_uuid": "a3c06ebc591e14630bb48829fc2bd5c6eb0b480a",
    "collapsed": true
   },
   "outputs": [],
   "source": [
    "train_clusters[\"reg_cluster_transform\"]=pd.DataFrame(np.sin(train_clusters['reg_cluster']))\n",
    "train_clusters[\"bina_cluster_transform\"]=pd.DataFrame(np.sin(train_clusters['bina_cluster']))\n",
    "train_clusters[\"car_cluster_transform\"]=pd.DataFrame(np.sin(train_clusters['car_cluster']))\n",
    "train_clusters=train_clusters.drop(['reg_cluster'],1)\n",
    "train_clusters=train_clusters.drop(['bina_cluster'],1)\n",
    "train_clusters=train_clusters.drop(['car_cluster'],1)\n",
    "train_clusters=train_clusters.drop(['target'],1)\n",
    "\n",
    "test_clusters[\"reg_cluster_transform\"]=pd.DataFrame(np.sin(test_clusters['reg_cluster']))\n",
    "test_clusters[\"bina_cluster_transform\"]=pd.DataFrame(np.sin(test_clusters['bina_cluster']))\n",
    "test_clusters[\"car_cluster_transform\"]=pd.DataFrame(np.sin(test_clusters['car_cluster']))\n",
    "test_clusters=test_clusters.drop(['reg_cluster'],1)\n",
    "test_clusters=test_clusters.drop(['bina_cluster'],1)\n",
    "test_clusters=test_clusters.drop(['car_cluster'],1)\n"
   ]
  },
  {
   "cell_type": "code",
   "execution_count": null,
   "metadata": {
    "_cell_guid": "6d9d878e-93f0-4dfc-b0c3-9c1abf6543c2",
    "_uuid": "41f94c0948eab2dff2f45e7b75f292905ee222fd",
    "collapsed": true
   },
   "outputs": [],
   "source": [
    "print(train_clusters.shape,test_clusters.shape)\n",
    "print(train_clusters.columns,test_clusters.columns)\n",
    "print(train_data.shape,test_data.shape)"
   ]
  },
  {
   "cell_type": "code",
   "execution_count": null,
   "metadata": {
    "_cell_guid": "6bd5efcd-56ea-41a4-ab60-501f55e07bd6",
    "_uuid": "70235311eecff240ae5a2c0e48a68f3c8d990150",
    "collapsed": true
   },
   "outputs": [],
   "source": [
    "final_train_data=pd.concat([train_data,train_clusters],axis=1)\n",
    "final_test_data=pd.concat([test_data,test_clusters],axis=1)"
   ]
  },
  {
   "cell_type": "code",
   "execution_count": null,
   "metadata": {
    "_cell_guid": "6c4ed50a-9f14-4b65-a667-a2112fb5efb6",
    "_uuid": "98ba0cfb6d590afabceb4bea58f3f3d4c6100ed9",
    "collapsed": true
   },
   "outputs": [],
   "source": [
    "print(final_train_data.shape)\n",
    "print(final_test_data.shape)\n",
    "print(final_train_data.columns)\n",
    "print(final_test_data.columns)"
   ]
  },
  {
   "cell_type": "code",
   "execution_count": null,
   "metadata": {
    "_cell_guid": "51d5cbfc-82db-450a-a3f9-79c52b307aa5",
    "_uuid": "1ec621af9563cc8d0172604479da997321a8cab2",
    "collapsed": true
   },
   "outputs": [],
   "source": []
  },
  {
   "cell_type": "code",
   "execution_count": null,
   "metadata": {
    "_cell_guid": "4c8cf656-f3cc-4809-856a-9650c84362ad",
    "_uuid": "908783db66e5342936bc9060244c7257ac1d92d5",
    "collapsed": true
   },
   "outputs": [],
   "source": [
    "def gini(actual, pred, cmpcol = 0, sortcol = 1):\n",
    "    assert( len(actual) == len(pred) )\n",
    "    all = np.asarray(np.c_[ actual, pred, np.arange(len(actual)) ], dtype=np.float)\n",
    "    all = all[ np.lexsort((all[:,2], -1*all[:,1])) ]\n",
    "    totalLosses = all[:,0].sum()\n",
    "    giniSum = all[:,0].cumsum().sum() / totalLosses\n",
    "    \n",
    "    giniSum -= (len(actual) + 1) / 2.\n",
    "    return giniSum / len(actual)\n",
    " \n",
    "def gini_normalized(a, p):\n",
    "    return gini(a, p) / gini(a, a)\n",
    "\n",
    "# Create an XGBoost-compatible metric from Gini\n",
    "\n",
    "def gini_xgb(preds, dtrain):\n",
    "    labels = dtrain.get_label()\n",
    "    gini_score = gini_normalized(labels, preds)\n",
    "    return [('gini', gini_score)]"
   ]
  },
  {
   "cell_type": "code",
   "execution_count": null,
   "metadata": {
    "_cell_guid": "b6184f4e-2001-4917-8057-78ff5bfec742",
    "_uuid": "937215e87dbf2166ccd5b594b48639cfd777cbe6",
    "collapsed": true
   },
   "outputs": [],
   "source": [
    "from sklearn.cross_validation import train_test_split\n"
   ]
  },
  {
   "cell_type": "code",
   "execution_count": null,
   "metadata": {
    "_cell_guid": "a76507e9-1c5b-4612-be57-2c028851b8f5",
    "_uuid": "98f8a9e5c322b8e6c90cac7fe9c7e2a3b0562eb1",
    "collapsed": true
   },
   "outputs": [],
   "source": [
    "x_tr,x_ts,y_tr,y_ts=train_test_split(final_train_data,train['target'],test_size=.2)"
   ]
  },
  {
   "cell_type": "code",
   "execution_count": null,
   "metadata": {
    "_cell_guid": "eb9495f8-c7ad-4e46-ae9f-30c27a8c74c2",
    "_uuid": "48fd17a41eb908b04a20a15c9a10d86ca6d53e1e",
    "collapsed": true
   },
   "outputs": [],
   "source": [
    "import xgboost as xgb\n"
   ]
  },
  {
   "cell_type": "code",
   "execution_count": null,
   "metadata": {
    "_cell_guid": "1d48fc02-5c0b-442a-b1a4-9e12bb29f8a4",
    "_uuid": "f4730e2aba8bc5eefed39a57f5c34ff3e3f07368",
    "collapsed": true
   },
   "outputs": [],
   "source": [
    "d_train = xgb.DMatrix(x_tr, y_tr)\n",
    "d_valid = xgb.DMatrix(x_ts, y_ts)"
   ]
  },
  {
   "cell_type": "code",
   "execution_count": null,
   "metadata": {
    "_cell_guid": "ff614a4e-651d-4bcd-8604-d85536454977",
    "_uuid": "3188b6197a521bd3561b40959a260175f2aa94a9",
    "collapsed": true
   },
   "outputs": [],
   "source": [
    "d_test = xgb.DMatrix(final_test_data)"
   ]
  },
  {
   "cell_type": "code",
   "execution_count": null,
   "metadata": {
    "_cell_guid": "7be9f5ea-c3b6-45cf-a825-095a0edfe023",
    "_uuid": "3e7c31829d3c3bc2578be511887c6ecfe900c464",
    "collapsed": true
   },
   "outputs": [],
   "source": [
    "# Set xgboost parameters\n",
    "params = {}\n",
    "params['objective'] = 'binary:logistic'\n",
    "params['eta'] = 0.2\n",
    "params['silent'] = True\n",
    "params['max_depth'] = 6\n",
    "params['subsample'] = 0.9\n",
    "params['colsample_bytree'] = 0.9\n",
    "params['nthread']=-1\n",
    "watchlist = [(d_train, 'train'), (d_valid, 'valid')]"
   ]
  },
  {
   "cell_type": "code",
   "execution_count": null,
   "metadata": {
    "_cell_guid": "4d90d6eb-5770-4a8f-9bc7-dd0a97386a16",
    "_uuid": "bd3910bd730e0bba768279e6089ddb0cee1a7738",
    "collapsed": true
   },
   "outputs": [],
   "source": [
    "model = xgb.train(params, d_train, 20, watchlist, early_stopping_rounds=90, feval=gini_xgb, \n",
    "                maximize=True, verbose_eval=10)"
   ]
  },
  {
   "cell_type": "code",
   "execution_count": null,
   "metadata": {
    "_cell_guid": "290c6fd8-5fbe-4d1c-9454-5e1ca1f0ddf7",
    "_uuid": "c4b784441eaf0a3824f32c9376b84fa344384e34",
    "collapsed": true
   },
   "outputs": [],
   "source": [
    "print( \"  Best N trees = \", model.best_ntree_limit )\n",
    "print( \"  Best gini = \", model.best_score )"
   ]
  },
  {
   "cell_type": "code",
   "execution_count": null,
   "metadata": {
    "_cell_guid": "14d79b2d-9a64-4d5d-a766-5770f8dc6a1e",
    "_uuid": "8bee1f3a08e2e0a19c496c76a1e6ef4bb859e1b6",
    "collapsed": true
   },
   "outputs": [],
   "source": [
    "p_test = model.predict(d_test)\n",
    "\n",
    "print('Training completed')\n",
    "\n",
    "# Create a submission file\n",
    "sub = pd.DataFrame()\n",
    "sub['id'] = test['id'].values\n",
    "sub['target'] = p_test\n",
    "sub.to_csv('xgb_02_nov.csv', index=False)\n",
    "\n",
    "print('All done')"
   ]
  }
 ],
 "metadata": {
  "kernelspec": {
   "display_name": "Python 3",
   "language": "python",
   "name": "python3"
  },
  "language_info": {
   "codemirror_mode": {
    "name": "ipython",
    "version": 3
   },
   "file_extension": ".py",
   "mimetype": "text/x-python",
   "name": "python",
   "nbconvert_exporter": "python",
   "pygments_lexer": "ipython3",
   "version": "3.6.2"
  }
 },
 "nbformat": 4,
 "nbformat_minor": 1
}
